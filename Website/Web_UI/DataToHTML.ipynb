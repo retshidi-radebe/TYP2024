{
 "cells": [
  {
   "cell_type": "code",
   "execution_count": 1,
   "metadata": {
    "ExecuteTime": {
     "end_time": "2018-02-21T20:05:38.268641Z",
     "start_time": "2018-02-21T20:05:37.899036Z"
    },
    "collapsed": true
   },
   "outputs": [],
   "source": [
    "import pandas as pd"
   ]
  },
  {
   "cell_type": "code",
   "execution_count": 2,
   "metadata": {
    "ExecuteTime": {
     "end_time": "2018-02-21T20:05:38.280856Z",
     "start_time": "2018-02-21T20:05:38.270207Z"
    }
   },
   "outputs": [
    {
     "name": "stdout",
     "output_type": "stream",
     "text": [
      "pandas      0.21.1\n",
      "2018-02-21\n"
     ]
    }
   ],
   "source": [
    "%load_ext watermark\n",
    "%watermark -d -iv"
   ]
  },
  {
   "cell_type": "code",
   "execution_count": 3,
   "metadata": {
    "ExecuteTime": {
     "end_time": "2018-02-21T20:05:38.335039Z",
     "start_time": "2018-02-21T20:05:38.283218Z"
    }
   },
   "outputs": [
    {
     "data": {
      "text/html": [
       "<div>\n",
       "<style scoped>\n",
       "    .dataframe tbody tr th:only-of-type {\n",
       "        vertical-align: middle;\n",
       "    }\n",
       "\n",
       "    .dataframe tbody tr th {\n",
       "        vertical-align: top;\n",
       "    }\n",
       "\n",
       "    .dataframe thead th {\n",
       "        text-align: right;\n",
       "    }\n",
       "</style>\n",
       "<table border=\"1\" class=\"dataframe\">\n",
       "  <thead>\n",
       "    <tr style=\"text-align: right;\">\n",
       "      <th></th>\n",
       "      <th>First</th>\n",
       "      <th>Last</th>\n",
       "      <th>Birthday</th>\n",
       "      <th>Age</th>\n",
       "      <th>Color</th>\n",
       "      <th>Height</th>\n",
       "      <th>Weight</th>\n",
       "      <th>IQ</th>\n",
       "    </tr>\n",
       "  </thead>\n",
       "  <tbody>\n",
       "    <tr>\n",
       "      <th>0</th>\n",
       "      <td>ZOE</td>\n",
       "      <td>DAVIS</td>\n",
       "      <td>2012-03-12</td>\n",
       "      <td>6</td>\n",
       "      <td>Yellow</td>\n",
       "      <td>67</td>\n",
       "      <td>108</td>\n",
       "      <td>81</td>\n",
       "    </tr>\n",
       "    <tr>\n",
       "      <th>1</th>\n",
       "      <td>NOAH</td>\n",
       "      <td>JACKSON</td>\n",
       "      <td>1962-04-12</td>\n",
       "      <td>56</td>\n",
       "      <td>Blue</td>\n",
       "      <td>84</td>\n",
       "      <td>194</td>\n",
       "      <td>116</td>\n",
       "    </tr>\n",
       "    <tr>\n",
       "      <th>2</th>\n",
       "      <td>JAYDEN</td>\n",
       "      <td>STEWART</td>\n",
       "      <td>1975-07-17</td>\n",
       "      <td>43</td>\n",
       "      <td>Orange</td>\n",
       "      <td>65</td>\n",
       "      <td>161</td>\n",
       "      <td>68</td>\n",
       "    </tr>\n",
       "    <tr>\n",
       "      <th>3</th>\n",
       "      <td>MADISON</td>\n",
       "      <td>ANDERSON</td>\n",
       "      <td>1936-02-24</td>\n",
       "      <td>82</td>\n",
       "      <td>Blue</td>\n",
       "      <td>57</td>\n",
       "      <td>124</td>\n",
       "      <td>127</td>\n",
       "    </tr>\n",
       "    <tr>\n",
       "      <th>4</th>\n",
       "      <td>JAMES</td>\n",
       "      <td>JAMES</td>\n",
       "      <td>1963-09-15</td>\n",
       "      <td>55</td>\n",
       "      <td>Yellow</td>\n",
       "      <td>64</td>\n",
       "      <td>242</td>\n",
       "      <td>91</td>\n",
       "    </tr>\n",
       "  </tbody>\n",
       "</table>\n",
       "</div>"
      ],
      "text/plain": [
       "     First      Last   Birthday  Age   Color  Height  Weight   IQ\n",
       "0      ZOE     DAVIS 2012-03-12    6  Yellow      67     108   81\n",
       "1     NOAH   JACKSON 1962-04-12   56    Blue      84     194  116\n",
       "2   JAYDEN   STEWART 1975-07-17   43  Orange      65     161   68\n",
       "3  MADISON  ANDERSON 1936-02-24   82    Blue      57     124  127\n",
       "4    JAMES     JAMES 1963-09-15   55  Yellow      64     242   91"
      ]
     },
     "execution_count": 3,
     "metadata": {},
     "output_type": "execute_result"
    }
   ],
   "source": [
    "df = pd.read_excel('table.xlsx')\n",
    "df['Birthday'] = pd.to_datetime(df['Birthday'])\n",
    "df.head()"
   ]
  },
  {
   "cell_type": "code",
   "execution_count": 4,
   "metadata": {
    "ExecuteTime": {
     "end_time": "2018-02-21T20:05:38.349087Z",
     "start_time": "2018-02-21T20:05:38.336666Z"
    },
    "collapsed": true
   },
   "outputs": [],
   "source": [
    "savePath = 'table.txt'\n",
    "df.to_html(open(savePath, 'w'), index=False)"
   ]
  },
  {
   "cell_type": "code",
   "execution_count": null,
   "metadata": {
    "collapsed": true
   },
   "outputs": [],
   "source": []
  }
 ],
 "metadata": {
  "kernelspec": {
   "display_name": "Python 3",
   "language": "python",
   "name": "python3"
  },
  "language_info": {
   "codemirror_mode": {
    "name": "ipython",
    "version": 3
   },
   "file_extension": ".py",
   "mimetype": "text/x-python",
   "name": "python",
   "nbconvert_exporter": "python",
   "pygments_lexer": "ipython3",
   "version": "3.6.3"
  },
  "toc": {
   "nav_menu": {},
   "number_sections": true,
   "sideBar": true,
   "skip_h1_title": false,
   "toc_cell": false,
   "toc_position": {},
   "toc_section_display": "block",
   "toc_window_display": false
  }
 },
 "nbformat": 4,
 "nbformat_minor": 2
}
